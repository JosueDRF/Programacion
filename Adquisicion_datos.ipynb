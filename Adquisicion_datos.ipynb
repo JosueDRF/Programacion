{
 "cells": [
  {
   "cell_type": "code",
   "execution_count": 58,
   "id": "f4ce81c7-7abb-43f4-b5a6-aa20a2ec9dc7",
   "metadata": {},
   "outputs": [
    {
     "name": "stdout",
     "output_type": "stream",
     "text": [
      "[array([0]), array([0]), array([1226]), array([2718]), array([3870])]\n",
      "[[   0]\n",
      " [   0]\n",
      " [1226]\n",
      " [2718]\n",
      " [3870]]\n",
      "[0 1 2 3 4]\n"
     ]
    },
    {
     "data": {
      "image/png": "[encoded data removed]",
      "text/plain": [
       "<Figure size 432x288 with 1 Axes>"
      ]
     },
     "metadata": {
      "needs_background": "light"
     },
     "output_type": "display_data"
    }
   ],
   "source": [
    "from tkinter import *\n",
    "import serial\n",
    "import time\n",
    "import numpy as np\n",
    "import pandas as pd\n",
    "import matplotlib.pyplot as plt #!pip install matplot\n",
    "from sklearn import linear_model  #!pip install scikit-learn\n",
    "from sklearn.metrics import mean_squared_error, r2_score\n",
    "\n",
    "esp32 = serial.Serial('COM4',115200)\n",
    "DELAY = 500\n",
    "dato = []\n",
    "\n",
    "def muestra():\n",
    "    while(len(dato)<5):\n",
    "        text1.delete(0,'end')\n",
    "        dato.append(esp32.readline().decode())\n",
    "        text1.insert(0,esp32.readline().decode())\n",
    "        text1.after(DELAY, muestra)\n",
    "    \n",
    "def guarda():\n",
    "    for i in range(len(dato)):\n",
    "        dato[i] = dato[i].strip()\n",
    "        dato[i] =int(dato[i])\n",
    "        dato[i]=np.array([dato[i]])\n",
    "    print(dato)\n",
    "\n",
    "def regresion():\n",
    "    xdata=np.array(dato)\n",
    "    ydata=np.arange(len(dato))\n",
    "    print(xdata)\n",
    "    print(ydata)\n",
    "    modelo = linear_model.LinearRegression()\n",
    "    modelo.fit(xdata,ydata) #ejecución del modelo de regresión\n",
    "    #inspección visual de la información.\n",
    "    plt.scatter(xdata,ydata) #gráfico de puntos\n",
    "    plt.plot(xdata,modelo.predict(xdata), color = 'red')\n",
    "    plt.grid()\n",
    "    plt.show()\n",
    "\n",
    "    \n",
    "ventana = Tk()\n",
    "ventana.title('Prueba_actualiza_automatico')\n",
    "ventana.geometry('300x300')\n",
    "\n",
    "text1 = Entry(ventana, width=20)\n",
    "text1.pack()\n",
    "\n",
    "boton = Button(ventana, text='inicio', command=muestra)\n",
    "boton.pack()\n",
    "\n",
    "boton2 = Button(ventana, text='guarda_datos', command=guarda)\n",
    "boton2.pack()\n",
    "\n",
    "boton3 = Button(ventana, text='calcula_regresion', command=regresion)\n",
    "boton3.pack()\n",
    "\n",
    "ventana.mainloop()\n",
    "esp32.close()"
   ]
  },
  {
   "cell_type": "code",
   "execution_count": 48,
   "id": "e9aeaf26-903a-4937-a1de-350f78d5e92c",
   "metadata": {},
   "outputs": [
    {
     "name": "stdout",
     "output_type": "stream",
     "text": [
      "[[2304 2610 2167 1547 1856]]\n"
     ]
    }
   ],
   "source": [
    "dato\n",
    "xdata=np.array([dato])\n",
    "print(xdata)"
   ]
  },
  {
   "cell_type": "code",
   "execution_count": 51,
   "id": "56d5f471-cc31-49c3-8915-894aad8f45b1",
   "metadata": {},
   "outputs": [
    {
     "ename": "AttributeError",
     "evalue": "'int' object has no attribute 'strip'",
     "output_type": "error",
     "traceback": [
      "\u001b[1;31m---------------------------------------------------------------------------\u001b[0m",
      "\u001b[1;31mAttributeError\u001b[0m                            Traceback (most recent call last)",
      "\u001b[1;32m~\\AppData\\Local\\Temp/ipykernel_9844/2843918796.py\u001b[0m in \u001b[0;36m<module>\u001b[1;34m\u001b[0m\n\u001b[0;32m      1\u001b[0m \u001b[1;32mfor\u001b[0m \u001b[0mi\u001b[0m \u001b[1;32min\u001b[0m \u001b[0mrange\u001b[0m\u001b[1;33m(\u001b[0m\u001b[0mlen\u001b[0m\u001b[1;33m(\u001b[0m\u001b[0mdato\u001b[0m\u001b[1;33m)\u001b[0m\u001b[1;33m)\u001b[0m\u001b[1;33m:\u001b[0m\u001b[1;33m\u001b[0m\u001b[1;33m\u001b[0m\u001b[0m\n\u001b[1;32m----> 2\u001b[1;33m     \u001b[0mdato\u001b[0m\u001b[1;33m[\u001b[0m\u001b[0mi\u001b[0m\u001b[1;33m]\u001b[0m \u001b[1;33m=\u001b[0m \u001b[0mdato\u001b[0m\u001b[1;33m[\u001b[0m\u001b[0mi\u001b[0m\u001b[1;33m]\u001b[0m\u001b[1;33m.\u001b[0m\u001b[0mstrip\u001b[0m\u001b[1;33m(\u001b[0m\u001b[1;33m)\u001b[0m\u001b[1;33m\u001b[0m\u001b[1;33m\u001b[0m\u001b[0m\n\u001b[0m\u001b[0;32m      3\u001b[0m     \u001b[0mdato\u001b[0m\u001b[1;33m[\u001b[0m\u001b[0mi\u001b[0m\u001b[1;33m]\u001b[0m \u001b[1;33m=\u001b[0m\u001b[0mint\u001b[0m\u001b[1;33m(\u001b[0m\u001b[0mdato\u001b[0m\u001b[1;33m[\u001b[0m\u001b[0mi\u001b[0m\u001b[1;33m]\u001b[0m\u001b[1;33m)\u001b[0m\u001b[1;33m\u001b[0m\u001b[1;33m\u001b[0m\u001b[0m\n\u001b[0;32m      4\u001b[0m     \u001b[0mdato\u001b[0m\u001b[1;33m[\u001b[0m\u001b[0mi\u001b[0m\u001b[1;33m]\u001b[0m\u001b[1;33m=\u001b[0m\u001b[0mnp\u001b[0m\u001b[1;33m.\u001b[0m\u001b[0marray\u001b[0m\u001b[1;33m(\u001b[0m\u001b[1;33m[\u001b[0m\u001b[0mdato\u001b[0m\u001b[1;33m[\u001b[0m\u001b[0mi\u001b[0m\u001b[1;33m]\u001b[0m\u001b[1;33m]\u001b[0m\u001b[1;33m)\u001b[0m\u001b[1;33m\u001b[0m\u001b[1;33m\u001b[0m\u001b[0m\n\u001b[0;32m      5\u001b[0m \u001b[0mprint\u001b[0m\u001b[1;33m(\u001b[0m\u001b[0mdato\u001b[0m\u001b[1;33m)\u001b[0m\u001b[1;33m\u001b[0m\u001b[1;33m\u001b[0m\u001b[0m\n",
      "\u001b[1;31mAttributeError\u001b[0m: 'int' object has no attribute 'strip'"
     ]
    }
   ],
   "source": [
    "for i in range(len(dato)):\n",
    "    dato[i] = dato[i].strip()\n",
    "    dato[i] =int(dato[i])\n",
    "    dato[i]=np.array([dato[i]])\n",
    "print(dato)"
   ]
  },
  {
   "cell_type": "code",
   "execution_count": 23,
   "id": "420b4115-686d-4b73-998b-558ea581de2d",
   "metadata": {},
   "outputs": [
    {
     "name": "stdout",
     "output_type": "stream",
     "text": [
      "['0', '0', '1309', '2833', '4095', '2075', '2076']\n"
     ]
    }
   ],
   "source": [
    "for i in range(len(dato)):\n",
    "    dato[i] = dato[i].strip()\n",
    "print (dato)"
   ]
  },
  {
   "cell_type": "code",
   "execution_count": 41,
   "id": "cd11ce1c-74f7-4786-b68e-fed0ccb7a733",
   "metadata": {},
   "outputs": [
    {
     "name": "stdout",
     "output_type": "stream",
     "text": [
      "[2576, 2577, 2578, 2576, 2578]\n"
     ]
    }
   ],
   "source": [
    "for i in range(len(dato)):\n",
    "        dato[i] = dato[i].strip()\n",
    "        dato[i] =int(dato[i])\n",
    "print (dato)"
   ]
  },
  {
   "cell_type": "code",
   "execution_count": null,
   "id": "17c7db0a-0bc5-4d5a-8ac7-4d691ae988f8",
   "metadata": {},
   "outputs": [],
   "source": []
  },
  {
   "cell_type": "code",
   "execution_count": 9,
   "id": "8062f656-941e-4ed7-b50b-2590713c2b72",
   "metadata": {},
   "outputs": [
    {
     "name": "stdout",
     "output_type": "stream",
     "text": [
      "[2605, 2593, 1695, 780, 0]\n"
     ]
    }
   ],
   "source": [
    "#librerias\n",
    "import serial\n",
    "import time\n",
    "import numpy as np\n",
    "import pandas as pd\n",
    "import matplotlib.pyplot as plt \n",
    "\n",
    "#variable de almacenamiento de datos de entrada\n",
    "dato = [] #lista vacía\n",
    "\n",
    "#función para convertir los datos a valores numericos y procesarlos (como arreglos)\n",
    "def guarda():\n",
    "    for i in range(len(dato)):\n",
    "        dato[i] = dato[i].strip() #eliminar los saltos de linea\n",
    "        dato[i] =int(dato[i]) #convertir el string a entero\n",
    "        #dato[i]=np.array([dato[i]]) #convertir la lista a arreglo\n",
    "    return dato\n",
    "\n",
    "#configuración del puerto\n",
    "micro = serial.Serial('COM4',115200)\n",
    "\n",
    "#lectura de 5 datos\n",
    "while(len(dato)<5):   #se hará una lectura de 5 datos\n",
    "    dato.append(micro.readline().decode()) #decode es la decodificación del ascii\n",
    "\n",
    "#cambiar la lista a un arreglo para realizar el proceso de la información\n",
    "dato = guarda() \n",
    "print(dato)\n",
    "\n",
    "#cerrar el puerto serial\n",
    "micro.close()"
   ]
  },
  {
   "cell_type": "code",
   "execution_count": 4,
   "id": "ac3764f7-1873-41d9-bf3a-0e3f07eba86e",
   "metadata": {},
   "outputs": [],
   "source": [
    "micro.close()"
   ]
  },
  {
   "cell_type": "code",
   "execution_count": null,
   "id": "cc8515d2-9a19-4937-9ba6-16309ddad544",
   "metadata": {},
   "outputs": [],
   "source": []
  },
  {
   "cell_type": "code",
   "execution_count": 16,
   "id": "226770a4-2314-4069-a2f6-d1aaa21f5fa5",
   "metadata": {},
   "outputs": [
    {
     "data": {
      "image/png": "[encoded data removed]",
      "text/plain": [
       "<Figure size 432x288 with 1 Axes>"
      ]
     },
     "metadata": {
      "needs_background": "light"
     },
     "output_type": "display_data"
    },
    {
     "name": "stdout",
     "output_type": "stream",
     "text": [
      " f =  2939.2 - 702.3*x\n",
      "coef_corr   r  =  -0.9724094360195479\n",
      "coef_det r2 =  0.9455801112598552\n",
      "94.56% de los datos\n"
     ]
    }
   ],
   "source": [
    "# mínimos cuadrados, regresión con polinomio grado 1\n",
    "\n",
    "#[2605, 2593, 1695, 780, 0]\n",
    "\n",
    "#librerías\n",
    "import numpy as np\n",
    "import sympy as sym\n",
    "import matplotlib.pyplot as plt\n",
    "\n",
    "# datos de entrada\n",
    "\n",
    "xdata=np.arange(len(dato),dtype=float) #valores obtenidos desde el puerto serial\n",
    "ydata=np.array(dato, dtype=float)\n",
    "n= len(xdata)\n",
    "\n",
    "\n",
    "# obtención de los valores de sumatorias y valores de las medias\n",
    "xm  = np.mean(xdata)\n",
    "ym  = np.mean(ydata)\n",
    "sx  = np.sum(xdata)\n",
    "sy  = np.sum(ydata)\n",
    "sxy = np.sum(xdata*ydata)\n",
    "sx2 = np.sum(xdata**2)\n",
    "sy2 = np.sum(ydata**2)\n",
    "\n",
    "# cálculo de los coeficientes a0 y a1\n",
    "a1 = (n*sxy-sx*sy)/(n*sx2-sx**2)\n",
    "a0 = ym - a1*xm\n",
    "\n",
    "# creación del polinomio de grado 1\n",
    "x = sym.Symbol('x')\n",
    "f = a0 + a1*x\n",
    "\n",
    "#transforma funciones simbólicas a funciones lambda para cáclulo rápido de valores numéricos\n",
    "fx = sym.lambdify(x,f) \n",
    "fi = fx(xdata)\n",
    "\n",
    "# coeficiente de correlación\n",
    "num = n*sxy - sx*sy #numerador \n",
    "raiz1 = np.sqrt(n*sx2-sx**2)\n",
    "raiz2 = np.sqrt(n*sy2-sy**2)\n",
    "r = num/(raiz1*raiz2)\n",
    "\n",
    "# coeficiente de determinacion\n",
    "r2 = r**2\n",
    "r2_porcentaje = np.around(r2*100,2)\n",
    "\n",
    "# graficación de los datos\n",
    "plt.plot(xdata,ydata,'o',label='(xi,yi)')\n",
    "plt.plot(xdata,fi, color='orange',  label=f)\n",
    "plt.legend(loc='best')\n",
    "plt.xlabel('xi')\n",
    "plt.title('minimos cuadrados')\n",
    "plt.grid(True)\n",
    "plt.show()\n",
    "\n",
    "# datos de ajuste y coeficientes de correlación y determinación\n",
    "print(' f = ',f)\n",
    "print('coef_corr   r  = ', r)\n",
    "print('coef_det r2 = ', r2)\n",
    "print(str(r2_porcentaje)+'% de los datos')"
   ]
  },
  {
   "cell_type": "code",
   "execution_count": 7,
   "id": "7523f6c2-8740-4371-9e0a-7f5a07c44468",
   "metadata": {},
   "outputs": [
    {
     "data": {
      "text/plain": [
       "array([0., 1., 2., 3., 4.])"
      ]
     },
     "execution_count": 7,
     "metadata": {},
     "output_type": "execute_result"
    }
   ],
   "source": [
    "xdata"
   ]
  },
  {
   "cell_type": "code",
   "execution_count": 8,
   "id": "ab61d2e9-d60d-4a1c-8fd5-64a6356df424",
   "metadata": {},
   "outputs": [
    {
     "data": {
      "text/plain": [
       "array([[4095.],\n",
       "       [4095.],\n",
       "       [4095.],\n",
       "       [3792.],\n",
       "       [2895.]])"
      ]
     },
     "execution_count": 8,
     "metadata": {},
     "output_type": "execute_result"
    }
   ],
   "source": [
    "ydata"
   ]
  },
  {
   "cell_type": "code",
   "execution_count": null,
   "id": "695b8513-9f90-4c28-b0cd-4b8c72970608",
   "metadata": {},
   "outputs": [],
   "source": []
  }
 ],
 "metadata": {
  "kernelspec": {
   "display_name": "Python 3 (ipykernel)",
   "language": "python",
   "name": "python3"
  },
  "language_info": {
   "codemirror_mode": {
    "name": "ipython",
    "version": 3
   },
   "file_extension": ".py",
   "mimetype": "text/x-python",
   "name": "python",
   "nbconvert_exporter": "python",
   "pygments_lexer": "ipython3",
   "version": "3.9.7"
  }
 },
 "nbformat": 4,
 "nbformat_minor": 5
}
